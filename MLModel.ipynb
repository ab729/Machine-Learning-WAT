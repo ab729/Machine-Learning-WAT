{
 "cells": [
  {
   "cell_type": "markdown",
   "id": "49d8344e-a87a-497c-8eee-0b8fc1f45cf1",
   "metadata": {},
   "source": [
    "# Introduction to Scikit-learn\n",
    "this notebook covers some of the very basic functions of Scikt-learn.\n",
    "\n",
    "The contents:-\n",
    "\n",
    "0. End-End scikit-learn workflow.\n",
    "1. Getting the data ready.\n",
    "2. Chosing the right estimator/algorithm for the problem.\n",
    "3. fit the model/algorithm/estimator to make predictions on our data.\n",
    "4. Evaluate the model.\n",
    "5. Improve the model.\n",
    "6. Save and load a trained model.\n",
    "7. Put it all together.\n"
   ]
  },
  {
   "cell_type": "markdown",
   "id": "770c60ef-3180-4cf9-8e97-7c3390f5bd8d",
   "metadata": {},
   "source": [
    "## 0. End-End scikit-learn workflow."
   ]
  },
  {
   "cell_type": "markdown",
   "id": "aa6b0909-7a09-439d-a0e5-d5450becf7a9",
   "metadata": {},
   "source": [
    "## 1. Getting the data ready."
   ]
  },
  {
   "cell_type": "code",
   "execution_count": 49,
   "id": "2c263f69-b0b9-4321-a5a5-4b8038f2b2ad",
   "metadata": {},
   "outputs": [
    {
     "data": {
      "text/html": [
       "<div>\n",
       "<style scoped>\n",
       "    .dataframe tbody tr th:only-of-type {\n",
       "        vertical-align: middle;\n",
       "    }\n",
       "\n",
       "    .dataframe tbody tr th {\n",
       "        vertical-align: top;\n",
       "    }\n",
       "\n",
       "    .dataframe thead th {\n",
       "        text-align: right;\n",
       "    }\n",
       "</style>\n",
       "<table border=\"1\" class=\"dataframe\">\n",
       "  <thead>\n",
       "    <tr style=\"text-align: right;\">\n",
       "      <th></th>\n",
       "      <th>age</th>\n",
       "      <th>sex</th>\n",
       "      <th>cp</th>\n",
       "      <th>trestbps</th>\n",
       "      <th>chol</th>\n",
       "      <th>fbs</th>\n",
       "      <th>restecg</th>\n",
       "      <th>thalach</th>\n",
       "      <th>exang</th>\n",
       "      <th>oldpeak</th>\n",
       "      <th>slope</th>\n",
       "      <th>ca</th>\n",
       "      <th>thal</th>\n",
       "      <th>target</th>\n",
       "    </tr>\n",
       "  </thead>\n",
       "  <tbody>\n",
       "    <tr>\n",
       "      <th>0</th>\n",
       "      <td>63</td>\n",
       "      <td>1</td>\n",
       "      <td>3</td>\n",
       "      <td>145</td>\n",
       "      <td>233</td>\n",
       "      <td>1</td>\n",
       "      <td>0</td>\n",
       "      <td>150</td>\n",
       "      <td>0</td>\n",
       "      <td>2.3</td>\n",
       "      <td>0</td>\n",
       "      <td>0</td>\n",
       "      <td>1</td>\n",
       "      <td>1</td>\n",
       "    </tr>\n",
       "    <tr>\n",
       "      <th>1</th>\n",
       "      <td>37</td>\n",
       "      <td>1</td>\n",
       "      <td>2</td>\n",
       "      <td>130</td>\n",
       "      <td>250</td>\n",
       "      <td>0</td>\n",
       "      <td>1</td>\n",
       "      <td>187</td>\n",
       "      <td>0</td>\n",
       "      <td>3.5</td>\n",
       "      <td>0</td>\n",
       "      <td>0</td>\n",
       "      <td>2</td>\n",
       "      <td>1</td>\n",
       "    </tr>\n",
       "    <tr>\n",
       "      <th>2</th>\n",
       "      <td>41</td>\n",
       "      <td>0</td>\n",
       "      <td>1</td>\n",
       "      <td>130</td>\n",
       "      <td>204</td>\n",
       "      <td>0</td>\n",
       "      <td>0</td>\n",
       "      <td>172</td>\n",
       "      <td>0</td>\n",
       "      <td>1.4</td>\n",
       "      <td>2</td>\n",
       "      <td>0</td>\n",
       "      <td>2</td>\n",
       "      <td>1</td>\n",
       "    </tr>\n",
       "    <tr>\n",
       "      <th>3</th>\n",
       "      <td>56</td>\n",
       "      <td>1</td>\n",
       "      <td>1</td>\n",
       "      <td>120</td>\n",
       "      <td>236</td>\n",
       "      <td>0</td>\n",
       "      <td>1</td>\n",
       "      <td>178</td>\n",
       "      <td>0</td>\n",
       "      <td>0.8</td>\n",
       "      <td>2</td>\n",
       "      <td>0</td>\n",
       "      <td>2</td>\n",
       "      <td>1</td>\n",
       "    </tr>\n",
       "    <tr>\n",
       "      <th>4</th>\n",
       "      <td>57</td>\n",
       "      <td>0</td>\n",
       "      <td>0</td>\n",
       "      <td>120</td>\n",
       "      <td>354</td>\n",
       "      <td>0</td>\n",
       "      <td>1</td>\n",
       "      <td>163</td>\n",
       "      <td>1</td>\n",
       "      <td>0.6</td>\n",
       "      <td>2</td>\n",
       "      <td>0</td>\n",
       "      <td>2</td>\n",
       "      <td>1</td>\n",
       "    </tr>\n",
       "    <tr>\n",
       "      <th>...</th>\n",
       "      <td>...</td>\n",
       "      <td>...</td>\n",
       "      <td>...</td>\n",
       "      <td>...</td>\n",
       "      <td>...</td>\n",
       "      <td>...</td>\n",
       "      <td>...</td>\n",
       "      <td>...</td>\n",
       "      <td>...</td>\n",
       "      <td>...</td>\n",
       "      <td>...</td>\n",
       "      <td>...</td>\n",
       "      <td>...</td>\n",
       "      <td>...</td>\n",
       "    </tr>\n",
       "    <tr>\n",
       "      <th>298</th>\n",
       "      <td>57</td>\n",
       "      <td>0</td>\n",
       "      <td>0</td>\n",
       "      <td>140</td>\n",
       "      <td>241</td>\n",
       "      <td>0</td>\n",
       "      <td>1</td>\n",
       "      <td>123</td>\n",
       "      <td>1</td>\n",
       "      <td>0.2</td>\n",
       "      <td>1</td>\n",
       "      <td>0</td>\n",
       "      <td>3</td>\n",
       "      <td>0</td>\n",
       "    </tr>\n",
       "    <tr>\n",
       "      <th>299</th>\n",
       "      <td>45</td>\n",
       "      <td>1</td>\n",
       "      <td>3</td>\n",
       "      <td>110</td>\n",
       "      <td>264</td>\n",
       "      <td>0</td>\n",
       "      <td>1</td>\n",
       "      <td>132</td>\n",
       "      <td>0</td>\n",
       "      <td>1.2</td>\n",
       "      <td>1</td>\n",
       "      <td>0</td>\n",
       "      <td>3</td>\n",
       "      <td>0</td>\n",
       "    </tr>\n",
       "    <tr>\n",
       "      <th>300</th>\n",
       "      <td>68</td>\n",
       "      <td>1</td>\n",
       "      <td>0</td>\n",
       "      <td>144</td>\n",
       "      <td>193</td>\n",
       "      <td>1</td>\n",
       "      <td>1</td>\n",
       "      <td>141</td>\n",
       "      <td>0</td>\n",
       "      <td>3.4</td>\n",
       "      <td>1</td>\n",
       "      <td>2</td>\n",
       "      <td>3</td>\n",
       "      <td>0</td>\n",
       "    </tr>\n",
       "    <tr>\n",
       "      <th>301</th>\n",
       "      <td>57</td>\n",
       "      <td>1</td>\n",
       "      <td>0</td>\n",
       "      <td>130</td>\n",
       "      <td>131</td>\n",
       "      <td>0</td>\n",
       "      <td>1</td>\n",
       "      <td>115</td>\n",
       "      <td>1</td>\n",
       "      <td>1.2</td>\n",
       "      <td>1</td>\n",
       "      <td>1</td>\n",
       "      <td>3</td>\n",
       "      <td>0</td>\n",
       "    </tr>\n",
       "    <tr>\n",
       "      <th>302</th>\n",
       "      <td>57</td>\n",
       "      <td>0</td>\n",
       "      <td>1</td>\n",
       "      <td>130</td>\n",
       "      <td>236</td>\n",
       "      <td>0</td>\n",
       "      <td>0</td>\n",
       "      <td>174</td>\n",
       "      <td>0</td>\n",
       "      <td>0.0</td>\n",
       "      <td>1</td>\n",
       "      <td>1</td>\n",
       "      <td>2</td>\n",
       "      <td>0</td>\n",
       "    </tr>\n",
       "  </tbody>\n",
       "</table>\n",
       "<p>303 rows × 14 columns</p>\n",
       "</div>"
      ],
      "text/plain": [
       "     age  sex  cp  trestbps  chol  fbs  restecg  thalach  exang  oldpeak  slope  ca  thal  target\n",
       "0     63    1   3       145   233    1        0      150      0      2.3      0   0     1       1\n",
       "1     37    1   2       130   250    0        1      187      0      3.5      0   0     2       1\n",
       "2     41    0   1       130   204    0        0      172      0      1.4      2   0     2       1\n",
       "3     56    1   1       120   236    0        1      178      0      0.8      2   0     2       1\n",
       "4     57    0   0       120   354    0        1      163      1      0.6      2   0     2       1\n",
       "..   ...  ...  ..       ...   ...  ...      ...      ...    ...      ...    ...  ..   ...     ...\n",
       "298   57    0   0       140   241    0        1      123      1      0.2      1   0     3       0\n",
       "299   45    1   3       110   264    0        1      132      0      1.2      1   0     3       0\n",
       "300   68    1   0       144   193    1        1      141      0      3.4      1   2     3       0\n",
       "301   57    1   0       130   131    0        1      115      1      1.2      1   1     3       0\n",
       "302   57    0   1       130   236    0        0      174      0      0.0      1   1     2       0\n",
       "\n",
       "[303 rows x 14 columns]"
      ]
     },
     "execution_count": 49,
     "metadata": {},
     "output_type": "execute_result"
    }
   ],
   "source": [
    "import numpy as np\n",
    "import pandas as pd\n",
    "heart_diseases = pd.read_csv('Datasets/heart-disease.csv')\n",
    "heart_diseases"
   ]
  },
  {
   "cell_type": "code",
   "execution_count": 50,
   "id": "da661541-acd1-4582-a8c8-8fdca6e0debb",
   "metadata": {},
   "outputs": [],
   "source": [
    "# Create X (feature matrix)\n",
    "x = heart_diseases.drop('target', axis=1)\n",
    "\n",
    "# Create Y (Prediction matrix)\n",
    "y = heart_diseases['target']"
   ]
  },
  {
   "cell_type": "markdown",
   "id": "87b60309-db18-4702-b8f3-12f6d7243dfb",
   "metadata": {},
   "source": [
    "## 2. Choose the right estimator/algorithm and `hyperparameters`."
   ]
  },
  {
   "cell_type": "code",
   "execution_count": 51,
   "id": "533b8d55-c05e-46ba-b329-8d9e7545303a",
   "metadata": {},
   "outputs": [
    {
     "data": {
      "text/plain": [
       "{'bootstrap': True,\n",
       " 'ccp_alpha': 0.0,\n",
       " 'class_weight': None,\n",
       " 'criterion': 'gini',\n",
       " 'max_depth': None,\n",
       " 'max_features': 'sqrt',\n",
       " 'max_leaf_nodes': None,\n",
       " 'max_samples': None,\n",
       " 'min_impurity_decrease': 0.0,\n",
       " 'min_samples_leaf': 1,\n",
       " 'min_samples_split': 2,\n",
       " 'min_weight_fraction_leaf': 0.0,\n",
       " 'monotonic_cst': None,\n",
       " 'n_estimators': 100,\n",
       " 'n_jobs': None,\n",
       " 'oob_score': False,\n",
       " 'random_state': None,\n",
       " 'verbose': 0,\n",
       " 'warm_start': False}"
      ]
     },
     "execution_count": 51,
     "metadata": {},
     "output_type": "execute_result"
    }
   ],
   "source": [
    "# Using randomForest\n",
    "from sklearn.ensemble import RandomForestClassifier\n",
    "clf = RandomForestClassifier()\n",
    "\n",
    "# for now keeping the default hyperparameters, to check them we use:\n",
    "clf.get_params()"
   ]
  },
  {
   "cell_type": "markdown",
   "id": "52ede1b3-eb76-4e43-91e9-faa887fd8a0f",
   "metadata": {},
   "source": [
    "## 3. Fit the training algorithm/model to the data."
   ]
  },
  {
   "cell_type": "code",
   "execution_count": 52,
   "id": "76bf182f-ef61-4f84-8cd6-4af233dfc998",
   "metadata": {},
   "outputs": [],
   "source": [
    "from sklearn.model_selection import train_test_split\n",
    "# spliting data.\n",
    "x_train, x_test, y_train ,y_test = train_test_split(x, y, test_size=0.2)\n",
    "\n",
    "# fitting the test & train data to the algorithm.\n",
    "clf.fit(x_train, y_train);"
   ]
  },
  {
   "cell_type": "code",
   "execution_count": 53,
   "id": "e9f6fdfa-6a2e-409f-af8a-05cdbb121755",
   "metadata": {},
   "outputs": [],
   "source": [
    "# Making prediction.\n",
    "y_pred = clf.predict(x_test)"
   ]
  },
  {
   "cell_type": "code",
   "execution_count": 54,
   "id": "049692a7-26f9-459b-b8d8-97101b2f3a51",
   "metadata": {},
   "outputs": [
    {
     "data": {
      "text/plain": [
       "array([0, 1, 1, 0, 1, 1, 1, 0, 0, 1, 1, 0, 1, 0, 1, 1, 1, 0, 0, 0, 0, 0,\n",
       "       1, 1, 1, 1, 1, 1, 0, 1, 0, 0, 0, 0, 1, 0, 1, 1, 1, 1, 1, 1, 1, 1,\n",
       "       1, 0, 1, 1, 0, 0, 0, 0, 1, 1, 0, 0, 0, 1, 0, 0, 0])"
      ]
     },
     "execution_count": 54,
     "metadata": {},
     "output_type": "execute_result"
    }
   ],
   "source": [
    "y_pred"
   ]
  },
  {
   "cell_type": "markdown",
   "id": "9f9a1a02-84f0-4602-b295-d626b5e419e1",
   "metadata": {},
   "source": [
    "## 4. Evaluate the model."
   ]
  },
  {
   "cell_type": "code",
   "execution_count": 55,
   "id": "ad913c55-d598-4eb3-8edb-ac56db6ccf55",
   "metadata": {},
   "outputs": [
    {
     "data": {
      "text/plain": [
       "1.0"
      ]
     },
     "execution_count": 55,
     "metadata": {},
     "output_type": "execute_result"
    }
   ],
   "source": [
    "# The model did a perfect work on the training data\n",
    "clf.score(x_train, y_train)"
   ]
  },
  {
   "cell_type": "code",
   "execution_count": 56,
   "id": "22b89921-638b-474f-87cb-edb21d8b86f1",
   "metadata": {},
   "outputs": [
    {
     "data": {
      "text/plain": [
       "0.8524590163934426"
      ]
     },
     "execution_count": 56,
     "metadata": {},
     "output_type": "execute_result"
    }
   ],
   "source": [
    "# The model score for the test data.\n",
    "clf.score(x_test, y_test)"
   ]
  },
  {
   "cell_type": "markdown",
   "id": "e896c1c1-b7da-4ad6-82a7-8f758657cacd",
   "metadata": {},
   "source": [
    " #### 4.1 more methods to evaluate."
   ]
  },
  {
   "cell_type": "code",
   "execution_count": 57,
   "id": "43352035-47ba-49e4-a500-5c647868070c",
   "metadata": {},
   "outputs": [
    {
     "name": "stdout",
     "output_type": "stream",
     "text": [
      "              precision    recall  f1-score   support\n",
      "\n",
      "           0       0.86      0.83      0.84        29\n",
      "           1       0.85      0.88      0.86        32\n",
      "\n",
      "    accuracy                           0.85        61\n",
      "   macro avg       0.85      0.85      0.85        61\n",
      "weighted avg       0.85      0.85      0.85        61\n",
      "\n"
     ]
    }
   ],
   "source": [
    "from sklearn.metrics import classification_report, confusion_matrix, accuracy_score\n",
    "\n",
    "print(classification_report(y_test, y_pred))"
   ]
  },
  {
   "cell_type": "code",
   "execution_count": 58,
   "id": "e13152d6-228e-416f-85ee-4f32845cb513",
   "metadata": {},
   "outputs": [
    {
     "name": "stdout",
     "output_type": "stream",
     "text": [
      "[[24  5]\n",
      " [ 4 28]]\n"
     ]
    }
   ],
   "source": [
    "print(confusion_matrix(y_test, y_pred))"
   ]
  },
  {
   "cell_type": "code",
   "execution_count": 59,
   "id": "4919b835-65f3-4ea8-8918-30c9301ff408",
   "metadata": {},
   "outputs": [
    {
     "data": {
      "text/plain": [
       "0.8524590163934426"
      ]
     },
     "execution_count": 59,
     "metadata": {},
     "output_type": "execute_result"
    }
   ],
   "source": [
    "accuracy_score(y_test, y_pred)"
   ]
  },
  {
   "cell_type": "markdown",
   "id": "579ecee4-0e76-4fa1-88ab-ba1fb256b22f",
   "metadata": {},
   "source": [
    "## 5. Improve the model.\n",
    "* By modifying a specific `hyperparameter` aka n_estimators"
   ]
  },
  {
   "cell_type": "code",
   "execution_count": 67,
   "id": "86f4bc24-de1a-493c-9b2d-86a909a528e9",
   "metadata": {},
   "outputs": [
    {
     "name": "stdout",
     "output_type": "stream",
     "text": [
      "Trying the model with 10_estimators\n",
      "Model accuracy on test set: 85.25%...\n",
      "\n",
      "Trying the model with 20_estimators\n",
      "Model accuracy on test set: 80.33%...\n",
      "\n",
      "Trying the model with 30_estimators\n",
      "Model accuracy on test set: 83.61%...\n",
      "\n",
      "Trying the model with 40_estimators\n",
      "Model accuracy on test set: 80.33%...\n",
      "\n",
      "Trying the model with 50_estimators\n",
      "Model accuracy on test set: 86.89%...\n",
      "\n",
      "Trying the model with 60_estimators\n",
      "Model accuracy on test set: 83.61%...\n",
      "\n",
      "Trying the model with 70_estimators\n",
      "Model accuracy on test set: 83.61%...\n",
      "\n",
      "Trying the model with 80_estimators\n",
      "Model accuracy on test set: 83.61%...\n",
      "\n",
      "Trying the model with 90_estimators\n",
      "Model accuracy on test set: 81.97%...\n",
      "\n"
     ]
    }
   ],
   "source": [
    "np.random.seed(42)\n",
    "for i in range(10, 100, 10):\n",
    "    print(f\"Trying the model with {i}_estimators\")\n",
    "    clf = RandomForestClassifier(n_estimators=i)\n",
    "    clf.fit(x_train, y_train)\n",
    "    print(f\"Model accuracy on test set: {clf.score(x_test, y_test) * 100:.2f}%...\\n\")"
   ]
  },
  {
   "cell_type": "markdown",
   "id": "6267cec0-1639-4dd8-81d6-3a266946f799",
   "metadata": {},
   "source": [
    "## Save a model and load it"
   ]
  },
  {
   "cell_type": "code",
   "execution_count": 69,
   "id": "cb5aa094-b3ee-4af2-8499-7285b05c5444",
   "metadata": {},
   "outputs": [],
   "source": [
    "import pickle\n",
    "pickle.dump(clf, open(\"RandomForestModel1.pkl\", \"wb\"))\n",
    "# and model is saved"
   ]
  },
  {
   "cell_type": "markdown",
   "id": "360359b1-1f0f-4f0a-98c9-938cb3cb5912",
   "metadata": {},
   "source": [
    " ### Loading a model"
   ]
  },
  {
   "cell_type": "code",
   "execution_count": 72,
   "id": "742f71d8-a6b9-464b-a0cd-f9fb3d3fea6b",
   "metadata": {},
   "outputs": [
    {
     "data": {
      "text/plain": [
       "0.819672131147541"
      ]
     },
     "execution_count": 72,
     "metadata": {},
     "output_type": "execute_result"
    }
   ],
   "source": [
    "loaded_model = pickle.load(open(\"RandomForestModel1.pkl\", \"rb\"))\n",
    "loaded_model.score(x_test, y_test)"
   ]
  },
  {
   "cell_type": "markdown",
   "id": "5246c862-2b65-482e-af50-a32f05a452cb",
   "metadata": {},
   "source": [
    "## 7. Putting it all together"
   ]
  },
  {
   "cell_type": "code",
   "execution_count": null,
   "id": "f6e62f62-86ca-4c36-ac10-1dbc1e50fbc5",
   "metadata": {},
   "outputs": [],
   "source": []
  }
 ],
 "metadata": {
  "kernelspec": {
   "display_name": "Python 3 (ipykernel)",
   "language": "python",
   "name": "python3"
  },
  "language_info": {
   "codemirror_mode": {
    "name": "ipython",
    "version": 3
   },
   "file_extension": ".py",
   "mimetype": "text/x-python",
   "name": "python",
   "nbconvert_exporter": "python",
   "pygments_lexer": "ipython3",
   "version": "3.13.2"
  }
 },
 "nbformat": 4,
 "nbformat_minor": 5
}
