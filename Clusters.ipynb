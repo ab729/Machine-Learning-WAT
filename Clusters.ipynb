{
  "nbformat": 4,
  "nbformat_minor": 0,
  "metadata": {
    "colab": {
      "provenance": [],
      "authorship_tag": "ABX9TyMs2Ohp+OQoydlzPozDKS0l"
    },
    "kernelspec": {
      "name": "python3",
      "display_name": "Python 3"
    },
    "language_info": {
      "name": "python"
    }
  },
  "cells": [
    {
      "cell_type": "markdown",
      "source": [
        "## Clusterization with NLP lab\n",
        "\n",
        ">1. Fetch the articles from cnn.com using beautiful soup library `bt4`.\n",
        "2. Prepare `TF-IDF` for the 100 articles.\n",
        "3. implement `K-means` clusterization.\n",
        ">"
      ],
      "metadata": {
        "id": "LFGdUcg9DBta"
      }
    },
    {
      "cell_type": "code",
      "source": [
        "from bs4 import BeautifulSoup\n",
        "\n",
        "import requests\n",
        "\n",
        "\n",
        "\n",
        "# Base URL\n",
        "\n",
        "BASE_URL = 'http://lite.cnn.com'\n",
        "\n",
        "\n",
        "\n",
        "# Send a request to the main page\n",
        "\n",
        "response = requests.get(BASE_URL)\n",
        "\n",
        "response.encoding = 'utf-8'  # CNN Lite uses simple HTML\n",
        "\n",
        "\n",
        "\n",
        "# Parse the page\n",
        "\n",
        "soup = BeautifulSoup(response.text, 'html.parser')\n",
        "\n",
        "\n",
        "\n",
        "# Get article links (they are in <a> tags with href starting with /)\n",
        "\n",
        "article_links = [a['href'] for a in soup.find_all('a', href=True) if a['href'].startswith('/')]\n",
        "\n",
        "\n",
        "\n",
        "# Prepare list to store articles\n",
        "\n",
        "articles_text = []\n",
        "\n",
        "\n",
        "\n",
        "# Download article content\n",
        "\n",
        "for i, link in enumerate(article_links[:100]):  # Limit to 100 articles\n",
        "\n",
        "    try:\n",
        "\n",
        "        article_url = BASE_URL + link\n",
        "\n",
        "        article_resp = requests.get(article_url)\n",
        "\n",
        "        article_soup = BeautifulSoup(article_resp.text, 'html.parser')\n",
        "\n",
        "        # Extract all text in <p> tags\n",
        "\n",
        "        paragraphs = article_soup.find_all('p')\n",
        "\n",
        "        text = '\\n'.join(p.get_text() for p in paragraphs)\n",
        "\n",
        "        articles_text.append(text)\n",
        "\n",
        "        print(f\"Downloaded article {i+1}: {article_url}\")\n",
        "\n",
        "    except Exception as e:\n",
        "\n",
        "        print(f\"Error with article {i+1}: {e}\")\n",
        "\n",
        "\n",
        "\n",
        "# Example output\n",
        "\n",
        "print(\"\\nSample article content:\\n\")\n",
        "\n",
        "print(articles_text[0] if articles_text else \"No articles retrieved.\")\n",
        "\n"
      ],
      "metadata": {
        "colab": {
          "base_uri": "https://localhost:8080/"
        },
        "id": "aiq0I58jq18e",
        "outputId": "cbc4f43c-4660-4104-a0ff-1615aeebf8b0"
      },
      "execution_count": null,
      "outputs": [
        {
          "output_type": "stream",
          "name": "stdout",
          "text": [
            "Downloaded article 1: http://lite.cnn.com/\n",
            "Downloaded article 2: http://lite.cnn.com/2025/06/05/politics/new-jersey-governor-donald-trump\n",
            "Downloaded article 3: http://lite.cnn.com/2025/06/05/world/us-trump-travel-ban-countries-explainer-intl\n",
            "Downloaded article 4: http://lite.cnn.com/2025/06/05/entertainment/leah-remini-jennifer-lopez-friendship\n",
            "Downloaded article 5: http://lite.cnn.com/2025/06/04/politics/trump-travel-ban-proclamation\n",
            "Downloaded article 6: http://lite.cnn.com/2025/06/04/world/meghan-sussex-lilibet-photo-scli-intl\n",
            "Downloaded article 7: http://lite.cnn.com/2025/06/05/business/trump-china-economy-tariffs-trade-war\n",
            "Downloaded article 8: http://lite.cnn.com/2025/06/05/politics/supreme-court-reverse-discrimination-suits\n",
            "Downloaded article 9: http://lite.cnn.com/2025/06/05/politics/supreme-court-backs-catholic-charities-push-to-object-to-state-taxes-on-religious-grounds\n",
            "Downloaded article 10: http://lite.cnn.com/2025/06/05/business/michaels-acquires-joann-ip-private-labels\n",
            "Downloaded article 11: http://lite.cnn.com/2025/06/05/politics/trump-xi-trade-call\n",
            "Downloaded article 12: http://lite.cnn.com/2025/06/04/science/ispace-moon-landing-attempt-journey\n",
            "Downloaded article 13: http://lite.cnn.com/2025/06/05/world/ukraine-firefighter-family-russia-attack-intl\n",
            "Downloaded article 14: http://lite.cnn.com/2025/06/05/health/fentanyl-opioids-naloxone-overdose-wellness\n",
            "Downloaded article 15: http://lite.cnn.com/2025/06/05/politics/supreme-court-smith-wesson-mexico\n",
            "Downloaded article 16: http://lite.cnn.com/2025/06/05/health/abortion-care-pregnant-woman-texas-hospital\n",
            "Downloaded article 17: http://lite.cnn.com/2025/06/05/sport/oilers-panthers-game-1-stanley-cup-final-spt\n",
            "Downloaded article 18: http://lite.cnn.com/2025/06/04/us/trump-harvard-student-visas-suspended\n",
            "Downloaded article 19: http://lite.cnn.com/2025/06/05/entertainment/halle-berry-sexy-mothers-day-post\n",
            "Downloaded article 20: http://lite.cnn.com/2025/06/05/business/us-jobs-report-may-preview\n",
            "Downloaded article 21: http://lite.cnn.com/2025/06/05/style/jane-birkin-original-hermes-bag-sale-intl-scli\n",
            "Downloaded article 22: http://lite.cnn.com/2025/06/03/us/boulder-attack-suspect-family-detained\n",
            "Downloaded article 23: http://lite.cnn.com/2025/06/05/tech/nintendo-switch-2-launch-games-what-to-know\n",
            "Downloaded article 24: http://lite.cnn.com/2025/06/05/economy/ecb-interest-rate-cut-trump-intl\n",
            "Downloaded article 25: http://lite.cnn.com/2025/06/05/us/cargo-ship-fire-alaska-electronic-vehicles-hnk\n",
            "Downloaded article 26: http://lite.cnn.com/2025/06/04/us/luigi-mangione-diary-entries-murder-case\n",
            "Downloaded article 27: http://lite.cnn.com/2025/06/05/business/procter-gamble-job-cuts-tariffs-intl\n",
            "Downloaded article 28: http://lite.cnn.com/2025/06/05/sport/oday-dabbagh-palestine-soccer-spt-intl\n",
            "Downloaded article 29: http://lite.cnn.com/2025/06/05/food/hooters-sudden-closures-bankruptcy\n",
            "Downloaded article 30: http://lite.cnn.com/2025/06/04/middleeast/us-vetoes-un-security-council-gaza-ceasefire-latam-intl\n",
            "Downloaded article 31: http://lite.cnn.com/2025/06/05/travel/nine-injured-after-ryanair-flight-hits-turbulence\n",
            "Downloaded article 32: http://lite.cnn.com/2025/06/05/health/measles-exposures-travelers-wellness\n",
            "Downloaded article 33: http://lite.cnn.com/2025/06/05/sport/nba-finals-thunder-pacers-game-1-spt\n",
            "Downloaded article 34: http://lite.cnn.com/2025/06/05/sport/finland-women-soccer-apologizes-call-up-spt-intl\n",
            "Downloaded article 35: http://lite.cnn.com/2025/06/05/asia/japan-birth-rate-record-low-intl-scli\n",
            "Downloaded article 36: http://lite.cnn.com/2025/06/05/travel/supersonic-travel-american-skies-still-big-problem\n",
            "Downloaded article 37: http://lite.cnn.com/2025/06/05/us/baltimore-diesel-spill-harbor-hnk\n",
            "Downloaded article 38: http://lite.cnn.com/2025/06/05/middleeast/israel-hostages-gaza-recovered-intl\n",
            "Downloaded article 39: http://lite.cnn.com/2025/06/05/sport/gabby-thomas-fanduel-bans-heckler-spt\n",
            "Downloaded article 40: http://lite.cnn.com/2025/06/05/sport/cristiano-ronaldo-germany-portugal-win-spt-intl\n",
            "Downloaded article 41: http://lite.cnn.com/2025/06/05/business/eu-china-rare-earth-export-controls-intl-hnk\n",
            "Downloaded article 42: http://lite.cnn.com/2025/06/05/world/new-zealand-parliament-maori-haka-intl-hnk\n",
            "Downloaded article 43: http://lite.cnn.com/2025/06/05/europe/germany-merz-meeting-trump-intl-cmd\n",
            "Downloaded article 44: http://lite.cnn.com/2025/06/05/entertainment/tarana-burke-me-too-weinstein-combs\n",
            "Downloaded article 45: http://lite.cnn.com/2025/06/04/us/boulder-colorado-terror-attack\n",
            "Downloaded article 46: http://lite.cnn.com/2025/06/05/entertainment/wicked-for-good-trailer-ariana-grande-cynthia-erivo\n",
            "Downloaded article 47: http://lite.cnn.com/2025/06/05/australia/domestic-violence-australia-study-intl-hnk\n",
            "Downloaded article 48: http://lite.cnn.com/2025/06/05/australia/australia-cockatoos-study-water-fountains-intl-hnk\n",
            "Downloaded article 49: http://lite.cnn.com/2025/06/05/politics/trump-team-mistakes-analysis\n",
            "Downloaded article 50: http://lite.cnn.com/2025/06/04/us/columbia-university-accreditation-antidiscrimination\n",
            "Downloaded article 51: http://lite.cnn.com/2025/06/04/travel/malaysia-mount-kinabalu-earthquake-survivors-intl-hnk\n",
            "Downloaded article 52: http://lite.cnn.com/2025/06/02/asia/mongolia-political-crisis-protests-intl-hnk\n",
            "Downloaded article 53: http://lite.cnn.com/2025/06/04/politics/migrant-deported-mexico-returned-trump-administration\n",
            "Downloaded article 54: http://lite.cnn.com/2025/06/04/politics/trump-putin-phone-call-ukraine-response\n",
            "Downloaded article 55: http://lite.cnn.com/2025/06/04/politics/trump-memo-biden-actions-autopen\n",
            "Downloaded article 56: http://lite.cnn.com/2025/06/04/asia/india-cricket-bengaluru-crush-intl\n",
            "Downloaded article 57: http://lite.cnn.com/2025/06/04/politics/justice-department-texas-undocumented-immigrants-college-tuition\n",
            "Downloaded article 58: http://lite.cnn.com/2025/04/26/us/harvard-university-trump-timeline\n",
            "Downloaded article 59: http://lite.cnn.com/2025/06/04/politics/nyc-mayor-debate-andrew-cuomo-zohran-mamdani\n",
            "Downloaded article 60: http://lite.cnn.com/2025/06/04/politics/fema-white-house-disaster-relief-funds\n",
            "Downloaded article 61: http://lite.cnn.com/2025/06/04/us/nebraska-transgender-girls-sports-ban\n",
            "Downloaded article 62: http://lite.cnn.com/2025/06/04/politics/elon-musk-trump-agenda-bill\n",
            "Downloaded article 63: http://lite.cnn.com/2025/06/04/americas/argentina-milei-intelligence-plan-alleged-surveillence-intl-latam\n",
            "Downloaded article 64: http://lite.cnn.com/2025/06/04/entertainment/takeaways-diddy-trial-bryana-bongolan-testimony\n",
            "Downloaded article 65: http://lite.cnn.com/2025/06/04/us/faa-newark-issues-october\n",
            "Downloaded article 66: http://lite.cnn.com/2025/06/04/us/chinese-researchers-smuggle-pathogen-university-of-michigan\n",
            "Downloaded article 67: http://lite.cnn.com/2025/06/04/us/fertility-clinic-explosion-arrest-new-york-california\n",
            "Downloaded article 68: http://lite.cnn.com/2025/06/04/politics/dhs-concession-migrant-trump-threat-investigation\n",
            "Downloaded article 69: http://lite.cnn.com/2025/06/04/politics/migrants-el-salvador-alien-enemies-act\n",
            "Downloaded article 70: http://lite.cnn.com/2025/06/04/politics/trump-xi-trade-phone-call\n",
            "Downloaded article 71: http://lite.cnn.com/2025/06/04/us/fusariam-graminearum-china-fungus\n",
            "Downloaded article 72: http://lite.cnn.com/2025/06/04/politics/appeals-court-department-of-education-cuts\n",
            "Downloaded article 73: http://lite.cnn.com/2025/06/04/politics/djibouti-migrants-supreme-court\n",
            "Downloaded article 74: http://lite.cnn.com/2025/06/04/business/business-owners-tariffs-trump\n",
            "Downloaded article 75: http://lite.cnn.com/2025/06/04/business/big-beautiful-bill-bonds-elon-musk\n",
            "Downloaded article 76: http://lite.cnn.com/2025/06/04/politics/birthright-citizenship-9th-circuit-appeals-arguments\n",
            "Downloaded article 77: http://lite.cnn.com/2025/06/04/europe/cologne-ww2-bomb-evacuation-intl\n",
            "Downloaded article 78: http://lite.cnn.com/2025/06/04/us/karen-read-testify-trial\n",
            "Downloaded article 79: http://lite.cnn.com/2025/06/04/health/whole-foods-ground-beef-alert\n",
            "Downloaded article 80: http://lite.cnn.com/2025/06/04/politics/house-gop-big-beautiful-bill-increase-deficit\n",
            "Downloaded article 81: http://lite.cnn.com/2025/06/04/africa/un-probe-bodies-found-libya-militia-latam-intl\n",
            "Downloaded article 82: http://lite.cnn.com/2025/06/04/us/harvey-milk-navy-ship-trump\n",
            "Downloaded article 83: http://lite.cnn.com/2025/06/04/us/colorado-attack-congregation-bonai-shalom\n",
            "Downloaded article 84: http://lite.cnn.com/2025/06/04/americas/el-salvador-officers-sentenced-killing-dutch-journalists-intl-latam\n",
            "Downloaded article 85: http://lite.cnn.com/2025/06/03/entertainment/jonathan-joss-tribute-nick-offerman\n",
            "Downloaded article 86: http://lite.cnn.com/2025/06/04/entertainment/patrick-schwarzenegger-white-lotus-venmo\n",
            "Downloaded article 87: http://lite.cnn.com/2025/06/02/europe/inside-ukraine-drone-attack-russian-air-bases-latam-intl\n",
            "Downloaded article 88: http://lite.cnn.com/2025/06/04/tech/google-deepmind-ceo-ai-risks-jobs\n",
            "Downloaded article 89: http://lite.cnn.com/2025/06/04/entertainment/james-blunt-youre-beautiful\n",
            "Downloaded article 90: http://lite.cnn.com/2025/06/04/business/steel-aluminum-tariffs-doubled-trump\n",
            "Downloaded article 91: http://lite.cnn.com/2025/06/04/europe/france-crypto-kidnappings-detained-intl\n",
            "Downloaded article 92: http://lite.cnn.com/2025/06/04/europe/nuclear-threat-ukraine-russia-latam-intl\n",
            "Downloaded article 93: http://lite.cnn.com/2025/06/04/tech/hackers-abuse-modified-salesforce-app-to-steal-data-extort-companies-google-says\n",
            "Downloaded article 94: http://lite.cnn.com/2025/06/04/politics/karine-jean-pierre-biden-book\n",
            "Downloaded article 95: http://lite.cnn.com/2025/06/04/middleeast/iran-nuclear-enrichment-deal-trump-intl\n",
            "Downloaded article 96: http://lite.cnn.com/2025/06/04/politics/immigration-judge-migrant-trump-threat\n",
            "Downloaded article 97: http://lite.cnn.com/2025/06/04/tech/pornhub-exits-france-age-verification-intl\n",
            "Downloaded article 98: http://lite.cnn.com/2025/06/04/sport/boisson-andreeva-gauff-keys-french-open-quarterfinal-spt-intl\n",
            "Downloaded article 99: http://lite.cnn.com/2025/06/03/sport/roland-garros-lois-boisson-profile-intl-spt\n",
            "Downloaded article 100: http://lite.cnn.com/2025/06/02/business/brands-pride-month-trump-lgbtq\n",
            "\n",
            "Sample article content:\n",
            "\n",
            "Latest Stories\n",
            "\n",
            "\n",
            "      Go to the full CNN experience\n",
            "    \n",
            "\n",
            "\n",
            "    © 2025 Cable News Network. A Warner Bros. Discovery Company. All Rights Reserved.\n",
            "  \n",
            "\n",
            "\n",
            "      Terms of Use\n",
            "    \n",
            "\n",
            "      |\n",
            "    \n",
            "\n",
            "      Privacy Policy\n",
            "    \n",
            "\n",
            "      |\n",
            "    \n",
            "\n",
            "      Ad Choices\n",
            "    \n",
            "\n",
            "      |\n",
            "    \n",
            "\n",
            "      Cookie Settings\n",
            "    \n",
            "\n"
          ]
        }
      ]
    },
    {
      "cell_type": "code",
      "source": [
        "articles_text[1]"
      ],
      "metadata": {
        "colab": {
          "base_uri": "https://localhost:8080/",
          "height": 140
        },
        "id": "61QBMR1copYF",
        "outputId": "373478c5-f618-439a-d0cb-6dcb6a251c7d"
      },
      "execution_count": null,
      "outputs": [
        {
          "output_type": "execute_result",
          "data": {
            "text/plain": [
              "'\\n  By Arlette Saenz, CNN\\n\\n\\nUpdated: \\n        11:15 AM EDT, Thu June 5, 2025\\n    \\n\\n  Source: CNN\\n\\n\\n  The high-profile battles to become the Democratic and Republican nominees for governor of New Jersey are centered on a single summer Garden State resident: President Donald Trump.\\n\\n\\n  While Democrats have debated their approaches to housing, affordability and immigration, they all agree that part of the role of the state’s next governor is to serve as a check on Trump. On the Republican side, Trump has endorsed a one-time critic who came close to winning the governor’s race four years ago.\\n\\n\\n  New Jersey is one of two states featuring a governor’s race this year, offering a gauge of voter sentiment about both Trump and the Democratic Party ahead of the 2026 midterms. While Virginia voters will also select a governor this year, New Jersey is the only election featuring contested primaries that have already turned the gubernatorial race into the most expensive in state history. Ad spending has reached $80 million, according to tracking firm AdImpact.\\n\\n\\n  For Democrats, Tuesday’s primary presents a key test of the party’s direction in its first months out of power against Trump. The six-candidate field covers the moderate and progressive lanes, and Tuesday’s winner could face a tough test in November.\\n\\n\\n  Trump lost New Jersey last year by only 6 points to former Vice President Kamala Harris, four years after former President Joe Biden won the state by 16 points. Democratic Gov. Phil Murphy, who is term limited, won reelection in 2021 by just 3 points against Republican Jack Ciattarelli, who is running again this year.\\n\\n\\n  “Whatever we do in New Jersey is going to send ripples in my mind, around the country, in terms of what people believe, what Americans want and a direction that we should be going in in terms of fights,” Newark Mayor Ras Baraka, one of the six Democratic candidates, said in an interview. “Do we lay down or do we go moderate? Do we acquiesce to Donald Trump? Do we chase Republican voters, or do we go hard in the other direction?”\\n\\n\\n  Some political observers in the state view Rep. Mikie Sherrill, who has won the most county party endorsements, as having a slight edge.\\n\\n\\n  Other candidates include Jersey City Mayor Steve Fulop, who has billed himself as an anti-establishment candidate; moderate Rep. Josh Gottheimer, who has zeroed in on economic issues; Sean Spiller, the leader of a major teacher’s union; and former state Senate president and ironworker Steve Sweeney, a moderate hailing from the southern part of the state.\\n\\n\\n  The message of fighting Trump has been central to the Democrats’ advertising. Sherrill has promoted her experience as a former Navy helicopter pilot to argue she’ll “stand up to Trump and Musk with all I’ve got.” Fulop vows to “fight Donald Trump’s Medicaid cuts.”\\n\\n\\n  “It’s really important to have leadership in the state at the executive level, to really push back on the vision that’s coming from Washington,” Sherrill, who flipped a GOP district in 2018 to help Democrats win control of the House in Trump’s first term, said in an interview.\\n\\n\\n  Gottheimer released one of the most provocative ads of the campaign, using AI-generated imagery to depict him duking it out, shirtless, with Trump in a boxing ring.\\n\\n\\n  “They want to know that someone’s not afraid to fight and stand up for us,” Gottheimer said in an interview on CNN, arguing economic anxiety is part of what drove the rightward shift in the state last year. “People see what’s going on with Trump and the chaos and they want actually an alternative.”\\n\\n\\n  Baraka had the most direct clash with Trump of anyone in the field. The progressive mayor of New Jersey’s largest city, Baraka was arrested last month on a trespassing charge at Delaney Hall, a federal immigration detention center in Newark that he attempted to visit with members of Congress. Video of his detention drew national attention.\\n\\n\\n  Though the charge against him was dropped, Baraka then sued Alina Habba, the interim US attorney for New Jersey, seeking damages for “false arrest and malicious prosecution” and accusing her of defamation in the case.\\n\\n\\n  “The problems that we’ve had in Newark, and our ability to mitigate them, makes us uniquely qualified to be able to do this at this moment and stand up for democracy and against Trump at the same time,” Baraka told CNN.\\n\\n\\n  Dan Bryan, a New Jersey Democratic strategist who worked to elect Murphy as governor in 2017 during Trump’s first term in office, said the wrangling in the packed Democratic field will benefit the eventual nominee.\\n\\n\\n  “I’m not sure there’s ever been an election cycle in American history where you have had six campaigns spending in most cases eight figures plus and running hard races,” Bryan said. “Whoever comes out of this field will come out of the field having been far more tested and far more battle ready than on the Republican side.”\\n\\n\\n  Trump, who spends many summer weekends at his property in Bedminster, N.J., backed Ciattarelli last month. He held a tele-rally with Ciattarelli on Monday and tried to raise the stakes of the governor’s race.\\n\\n\\n  “It’s being watched, actually, all over the world, because New Jersey is ready to pop out of that blue horror show and really get in there and vote for somebody that’s going to make things happen,” Trump said.\\n\\n\\n  The Trump-Ciattarelli alliance was not always a likely one. In 2015, Ciattarelli described the then-presidential candidate as a “charlatan.”\\n\\n\\n  “Sitting silently and allowing him to embarrass our country is unacceptable,” Ciattarelli said at the time. “He is not fit to be president of the United States.”\\n\\n\\n  But Ciattarelli openly sought Trump’s endorsement this year, hoping the president would not only consolidate primary support for his candidacy but also turn out voters who shifted towards Trump in the 2024 general election.\\n\\n\\n  “He’s going to help us with a win this November and send a powerful message to the entire country that New Jersey is turning red,” Ciattarelli said in the tele-rally.\\n\\n\\n  Ciattarelli is considered the Republican front-runner. Conservative talk show host Bill Spadea, who has hosted the president on his radio program, is also vying for the support of Trump’s voters.\\n\\n\\n  “Loyalty matters to President Trump,” Spadea said in the opening of his first campaign ad, playing an old clip of Trump calling into Spadea’s radio show to say  “Bill, you’ve had my back from the beginning, and I really appreciate it.”\\n\\n\\n  State Sen. Jon Bramnick, a more moderate Republican, has kept Trump at a distance. He criticized the president’s pardons of those convicted in the January 6, 2021 attack at the US capitol. While Ciattarelli and Spadea have signaled support for Medicaid changes included in Trump’s massive policy bill, Bramnick expressed reservations.\\n\\n\\n  “To be honest with you, I hope the Republicans in Washington stand up, support New Jersey, and do not make those cuts,” Bramnick said in a recent debate.\\n\\n\\n  Justin Barbera, a businessowner in Burlington County, and former Englewood Cliffs Mayor Mario Kranjac are also on the GOP ballot.\\n\\n\\n  The Democratic candidates are already eyeing the Trump-backed Ciattarelli as their main opponent, hoping that endorsement will backfire with general election voters who might be turned off by Trump’s actions in his first year in office.\\n\\n\\n  But Bob Hugin, chairman of the New Jersey Republican State Party Committee, argued the contested Democratic primary will hurt their eventual nominee in a state where independent voters will also be key.\\n\\n\\n  “They’re all falling over each other trying to get farther left and more extreme than the other guy. It’s been good for Republicans,” he said. “Trump being visible in New Jersey will help energize those hardcore Republican voters who only vote in presidential elections.”\\n\\nSee Full Web Article\\n\\n\\n      Go to the full CNN experience\\n    \\n\\n\\n    © 2025 Cable News Network. A Warner Bros. Discovery Company. All Rights Reserved.\\n  \\n\\n\\n      Terms of Use\\n    \\n\\n      |\\n    \\n\\n      Privacy Policy\\n    \\n\\n      |\\n    \\n\\n      Ad Choices\\n    \\n\\n      |\\n    \\n\\n      Cookie Settings\\n    \\n'"
            ],
            "application/vnd.google.colaboratory.intrinsic+json": {
              "type": "string"
            }
          },
          "metadata": {},
          "execution_count": 13
        }
      ]
    },
    {
      "cell_type": "code",
      "source": [
        "from sklearn.feature_extraction.text import TfidfVectorizer\n",
        "from sklearn.metrics.pairwise import cosine_similarity"
      ],
      "metadata": {
        "id": "ZRf4Q0lIrXb9"
      },
      "execution_count": null,
      "outputs": []
    },
    {
      "cell_type": "code",
      "source": [
        "tftext = TfidfVectorizer(stop_words='english')"
      ],
      "metadata": {
        "id": "w953SJmgrp8U"
      },
      "execution_count": null,
      "outputs": []
    },
    {
      "cell_type": "code",
      "source": [
        " vectors = tftext.fit_transform(articles_text);"
      ],
      "metadata": {
        "id": "9qeMq-lArwh8"
      },
      "execution_count": null,
      "outputs": []
    },
    {
      "cell_type": "code",
      "source": [
        "vectors.shape"
      ],
      "metadata": {
        "colab": {
          "base_uri": "https://localhost:8080/"
        },
        "id": "F7OQd-YHr71k",
        "outputId": "50b69990-eda3-4abd-8682-976a8e803563"
      },
      "execution_count": null,
      "outputs": [
        {
          "output_type": "execute_result",
          "data": {
            "text/plain": [
              "(100, 9285)"
            ]
          },
          "metadata": {},
          "execution_count": 23
        }
      ]
    },
    {
      "cell_type": "code",
      "source": [
        "# prompt: import pca\n",
        "import numpy as np\n",
        "from sklearn.decomposition import PCA\n",
        "new_vect = PCA(n_components=2).fit_transform(vectors.toarray())"
      ],
      "metadata": {
        "id": "yNek5svTsjyE"
      },
      "execution_count": null,
      "outputs": []
    },
    {
      "cell_type": "code",
      "source": [
        "import matplotlib.pyplot as plt\n",
        "plt.scatter(new_vect[:,0],new_vect[:,1]);"
      ],
      "metadata": {
        "colab": {
          "base_uri": "https://localhost:8080/",
          "height": 430
        },
        "id": "-a3KOa2IstWc",
        "outputId": "b72f7b3e-7a72-44a3-ec7b-e9ff1dd15b8e"
      },
      "execution_count": null,
      "outputs": [
        {
          "output_type": "display_data",
          "data": {
            "text/plain": [
              "<Figure size 640x480 with 1 Axes>"
            ],
            "image/png": "[encoded data removed]"
          },
          "metadata": {}
        }
      ]
    },
    {
      "cell_type": "code",
      "source": [
        "clusts = 4\n",
        "centers = np.random.uniform(-0.3 ,0.5,  size=(clusts,2))"
      ],
      "metadata": {
        "id": "EDpZet1As6ls"
      },
      "execution_count": null,
      "outputs": []
    },
    {
      "cell_type": "code",
      "source": [
        "centers"
      ],
      "metadata": {
        "colab": {
          "base_uri": "https://localhost:8080/"
        },
        "id": "9yEAIs1Stdj9",
        "outputId": "00d65d4f-947b-4b15-b44f-c9e63cf6d03c"
      },
      "execution_count": null,
      "outputs": [
        {
          "output_type": "execute_result",
          "data": {
            "text/plain": [
              "array([[ 0.38563586, -0.21784681],\n",
              "       [ 0.10237422,  0.11945196],\n",
              "       [-0.09808797, -0.22074674],\n",
              "       [ 0.19257936, -0.28680288]])"
            ]
          },
          "metadata": {},
          "execution_count": 75
        }
      ]
    },
    {
      "cell_type": "code",
      "source": [
        "new_vect.shape"
      ],
      "metadata": {
        "colab": {
          "base_uri": "https://localhost:8080/"
        },
        "id": "SQFbQJP2v2-V",
        "outputId": "7e134fd3-21d1-463f-e0de-5b2a42f01e3e"
      },
      "execution_count": null,
      "outputs": [
        {
          "output_type": "execute_result",
          "data": {
            "text/plain": [
              "(100, 2)"
            ]
          },
          "metadata": {},
          "execution_count": 76
        }
      ]
    },
    {
      "cell_type": "code",
      "source": [
        "# prompt: implement distance checking function\n",
        "\n",
        "def calculate_distance(v1, v2):\n",
        "  \"\"\"\n",
        "  Calculates the Euclidean distance between two vectors.\n",
        "\n",
        "  Args:\n",
        "    v1: The first vector (NumPy array).\n",
        "    v2: The second vector (NumPy array).\n",
        "\n",
        "  Returns:\n",
        "    The Euclidean distance between the two vectors.\n",
        "  \"\"\"\n",
        "  return np.linalg.norm(v1 - v2)\n"
      ],
      "metadata": {
        "id": "4NLMWdGlteYs"
      },
      "execution_count": null,
      "outputs": []
    },
    {
      "cell_type": "code",
      "source": [
        "distances = np.array([[calculate_distance(v,centers[c]) for c in range(4)] for v in new_vect])"
      ],
      "metadata": {
        "id": "n1qnzNg6uTJl"
      },
      "execution_count": null,
      "outputs": []
    },
    {
      "cell_type": "code",
      "source": [
        "distances[:5]"
      ],
      "metadata": {
        "colab": {
          "base_uri": "https://localhost:8080/"
        },
        "id": "VU7fy-vCuza0",
        "outputId": "24ab8f9e-783d-4359-b215-aa96b4f2d345"
      },
      "execution_count": null,
      "outputs": [
        {
          "output_type": "execute_result",
          "data": {
            "text/plain": [
              "array([[0.56532513, 0.2857754 , 0.20294913, 0.42835934],\n",
              "       [0.27302133, 0.17434292, 0.3363616 , 0.25164983],\n",
              "       [0.406385  , 0.03417399, 0.38723082, 0.38746641],\n",
              "       [0.54895412, 0.29015854, 0.17852102, 0.40706635],\n",
              "       [0.40249836, 0.04141661, 0.39917606, 0.39079448]])"
            ]
          },
          "metadata": {},
          "execution_count": 79
        }
      ]
    },
    {
      "cell_type": "code",
      "source": [
        "p_labels = np.argmin(distances, axis=1)"
      ],
      "metadata": {
        "id": "8dMNW2u3vutt"
      },
      "execution_count": null,
      "outputs": []
    },
    {
      "cell_type": "code",
      "source": [
        "new_centers = [ np.mean(new_vect[p_labels==c], axis = 0) for c in range(4) ]"
      ],
      "metadata": {
        "id": "u_HpRtJ-xEXE"
      },
      "execution_count": null,
      "outputs": []
    },
    {
      "cell_type": "code",
      "source": [
        "new_centers"
      ],
      "metadata": {
        "colab": {
          "base_uri": "https://localhost:8080/"
        },
        "id": "qE2xh-PRyNBE",
        "outputId": "b57be611-9edd-4c57-fa82-4a76da1263c9"
      },
      "execution_count": null,
      "outputs": [
        {
          "output_type": "execute_result",
          "data": {
            "text/plain": [
              "[array([ 0.47071752, -0.21428568]),\n",
              " array([0.04201095, 0.12211743]),\n",
              " array([-0.10481735, -0.06256781]),\n",
              " array([ 0.18272654, -0.19015749])]"
            ]
          },
          "metadata": {},
          "execution_count": 82
        }
      ]
    },
    {
      "cell_type": "code",
      "source": [
        "isStatic =  np.allclose(new_centers, centers)"
      ],
      "metadata": {
        "id": "oHSKqtYQz9jF"
      },
      "execution_count": null,
      "outputs": []
    },
    {
      "cell_type": "code",
      "source": [
        "sum(p_labels == 0)"
      ],
      "metadata": {
        "colab": {
          "base_uri": "https://localhost:8080/"
        },
        "id": "Fx-FCYPtyOKc",
        "outputId": "e5517e15-62f5-43f1-9786-f76568ddf339"
      },
      "execution_count": null,
      "outputs": [
        {
          "output_type": "execute_result",
          "data": {
            "text/plain": [
              "np.int64(71)"
            ]
          },
          "metadata": {},
          "execution_count": 61
        }
      ]
    },
    {
      "cell_type": "code",
      "source": [
        "isStatic"
      ],
      "metadata": {
        "colab": {
          "base_uri": "https://localhost:8080/"
        },
        "id": "XG8T5V-5yhZc",
        "outputId": "803187a4-356d-42a5-cbf5-ee469fa6a2ec"
      },
      "execution_count": null,
      "outputs": [
        {
          "output_type": "execute_result",
          "data": {
            "text/plain": [
              "False"
            ]
          },
          "metadata": {},
          "execution_count": 70
        }
      ]
    },
    {
      "cell_type": "code",
      "source": [
        "def k_means(vectors, clusts, max_iterations):\n",
        "  centers = np.random.uniform(-0.3 ,0.5,  size=(clusts,vectors.shape[1]))\n",
        "  isStatic = False\n",
        "  for i in range(max_iterations):\n",
        "\n",
        "    distance = np.array([[calculate_distance(v,centers[c]) for c in range(clusts)] for v in vectors])\n",
        "    p_labels = np.argmin(distances, axis=1)\n",
        "    new_centers = [ np.mean(vectors[p_labels==c], axis = 0) for c in range(clusts) ]\n",
        "    isStatic =  np.allclose(new_centers, centers)\n",
        "    # if isStatic:\n",
        "    #   break\n",
        "    centers = new_centers\n",
        "  print(\"iterations are: \", i)\n",
        "  return new_centers, p_labels\n"
      ],
      "metadata": {
        "id": "6SgGR7j71Ww0"
      },
      "execution_count": null,
      "outputs": []
    },
    {
      "cell_type": "code",
      "source": [
        "k_means(vectors, 4, 20)"
      ],
      "metadata": {
        "colab": {
          "base_uri": "https://localhost:8080/"
        },
        "id": "zmbIbOHK3WYU",
        "outputId": "ded36843-bc77-4583-b343-1719c6d698a1"
      },
      "execution_count": null,
      "outputs": [
        {
          "output_type": "stream",
          "name": "stdout",
          "text": [
            "iterations are:  19\n"
          ]
        },
        {
          "output_type": "execute_result",
          "data": {
            "text/plain": [
              "([matrix([[0.        , 0.01262663, 0.        , ..., 0.        , 0.        ,\n",
              "           0.        ]]),\n",
              "  matrix([[0.00270882, 0.00602197, 0.0011107 , ..., 0.        , 0.00138273,\n",
              "           0.        ]]),\n",
              "  matrix([[0.00086756, 0.00711879, 0.        , ..., 0.0006397 , 0.        ,\n",
              "           0.        ]]),\n",
              "  matrix([[0.        , 0.04678812, 0.00310595, ..., 0.        , 0.        ,\n",
              "           0.00833747]])],\n",
              " array([2, 1, 1, 2, 1, 2, 0, 1, 1, 2, 0, 2, 2, 2, 1, 1, 2, 1, 2, 3, 2, 1,\n",
              "        2, 3, 2, 1, 3, 2, 2, 1, 2, 1, 2, 2, 2, 2, 2, 2, 2, 2, 3, 2, 1, 2,\n",
              "        1, 2, 2, 2, 1, 1, 2, 2, 1, 3, 1, 2, 1, 1, 1, 1, 1, 1, 1, 2, 2, 1,\n",
              "        1, 1, 1, 0, 1, 1, 1, 3, 0, 1, 2, 1, 2, 1, 1, 1, 1, 1, 2, 2, 2, 2,\n",
              "        2, 3, 2, 2, 2, 1, 2, 1, 2, 2, 2, 1]))"
            ]
          },
          "metadata": {},
          "execution_count": 112
        }
      ]
    },
    {
      "cell_type": "code",
      "source": [
        "plt.scatter(new_vect[:,0],new_vect[:,1], c=p_labels);"
      ],
      "metadata": {
        "colab": {
          "base_uri": "https://localhost:8080/",
          "height": 430
        },
        "id": "Tsuw1FBV3mbj",
        "outputId": "e3ececed-b6df-4a5a-bb8c-1724abbd0ed8"
      },
      "execution_count": null,
      "outputs": [
        {
          "output_type": "display_data",
          "data": {
            "text/plain": [
              "<Figure size 640x480 with 1 Axes>"
            ],
            "image/png": "[encoded data removed]"
          },
          "metadata": {}
        }
      ]
    },
    {
      "cell_type": "code",
      "source": [
        "articles_text[p_labels==0]"
      ],
      "metadata": {
        "colab": {
          "base_uri": "https://localhost:8080/",
          "height": 141
        },
        "id": "8WjJ4pXn3rAb",
        "outputId": "8b58e25e-c5ac-489d-d2b0-afcda47025b4"
      },
      "execution_count": null,
      "outputs": [
        {
          "output_type": "error",
          "ename": "TypeError",
          "evalue": "only integer scalar arrays can be converted to a scalar index",
          "traceback": [
            "\u001b[0;31m---------------------------------------------------------------------------\u001b[0m",
            "\u001b[0;31mTypeError\u001b[0m                                 Traceback (most recent call last)",
            "\u001b[0;32m<ipython-input-94-0fb9cc70a29c>\u001b[0m in \u001b[0;36m<cell line: 0>\u001b[0;34m()\u001b[0m\n\u001b[0;32m----> 1\u001b[0;31m \u001b[0marticles_text\u001b[0m\u001b[0;34m[\u001b[0m\u001b[0mp_labels\u001b[0m\u001b[0;34m==\u001b[0m\u001b[0;36m0\u001b[0m\u001b[0;34m]\u001b[0m\u001b[0;34m\u001b[0m\u001b[0;34m\u001b[0m\u001b[0m\n\u001b[0m",
            "\u001b[0;31mTypeError\u001b[0m: only integer scalar arrays can be converted to a scalar index"
          ]
        }
      ]
    },
    {
      "cell_type": "code",
      "source": [
        "# prompt: print the articels text belonging to the cluster zero\n",
        "\n",
        "print(\"\\nArticles in Cluster 0:\\n\")\n",
        "\n",
        "for i, text in enumerate(articles_text):\n",
        "\n",
        "  if p_labels[i] == 3:\n",
        "    print(f\"Article {i+1}:\\n{text[:400]}\\n---\\n\")\n",
        "    print(\"=====================================================================\\n\")"
      ],
      "metadata": {
        "colab": {
          "base_uri": "https://localhost:8080/"
        },
        "id": "5qxQIybq4Upr",
        "outputId": "05af0ba2-b7b7-4db6-c64f-cf85470f1e49"
      },
      "execution_count": null,
      "outputs": [
        {
          "output_type": "stream",
          "name": "stdout",
          "text": [
            "\n",
            "Articles in Cluster 0:\n",
            "\n",
            "Article 20:\n",
            "\n",
            "  By Alicia Wallace, CNN\n",
            "\n",
            "\n",
            "Updated: \n",
            "        9:31 AM EDT, Thu June 5, 2025\n",
            "    \n",
            "\n",
            "  Source: CNN\n",
            "\n",
            "\n",
            "  Last June, after almost a full year on the job hunt, Jordan Williams landed a role at a high-growth, United Kingdom-based outdoor apparel brand that was looking to build out its US operations.\n",
            "\n",
            "\n",
            "  Passenger Clothing was well positioned for expansion: The company landed orders with REI, Scheels and o\n",
            "---\n",
            "\n",
            "=====================================================================\n",
            "\n",
            "Article 24:\n",
            "\n",
            "  By Anna Cooban, CNN\n",
            "\n",
            "\n",
            "Updated: \n",
            "        9:06 AM EDT, Thu June 5, 2025\n",
            "    \n",
            "\n",
            "  Source: CNN\n",
            "\n",
            "\n",
            "  The European Central Bank on Thursday cut its main interest rate again, citing slowing price rises.\n",
            "\n",
            "\n",
            "  The widely anticipated move takes the ECB’s main rate to 2%, from 2.25% previously, and marks the eighth time the central bank has slashed borrowing costs since last June as inflation has tumbled fro\n",
            "---\n",
            "\n",
            "=====================================================================\n",
            "\n",
            "Article 27:\n",
            "\n",
            "  By Reuters\n",
            "\n",
            "\n",
            "Updated: \n",
            "        8:52 AM EDT, Thu June 5, 2025\n",
            "    \n",
            "\n",
            "  Procter & Gamble will cut 7,000 jobs, or about 6% of its workforce, over the next two years, as part of a restructuring that will include the Tide maker exiting some product categories in certain markets.\n",
            "\n",
            "\n",
            "  The two-year restructuring plan comes as consumer goods giants P&G (PG) and Unilever brace for muted demand in 2025 ste\n",
            "---\n",
            "\n",
            "=====================================================================\n",
            "\n",
            "Article 41:\n",
            "\n",
            "  By John Liu and Nectar Gan, CNN\n",
            "\n",
            "\n",
            "Updated: \n",
            "        3:55 AM EDT, Thu June 5, 2025\n",
            "    \n",
            "\n",
            "  Source: CNN\n",
            "\n",
            "\n",
            "  The European Union has urged China to ease restrictions on rare earth materials – critical for everything from cars to washing machines – after Beijing’s export controls disrupted supplies and triggered production turmoil across industries in Europe and America.\n",
            "\n",
            "\n",
            "  Maros Sefcovic, the Euro\n",
            "---\n",
            "\n",
            "=====================================================================\n",
            "\n",
            "Article 54:\n",
            "\n",
            "  By Kevin Liptak, CNN\n",
            "\n",
            "\n",
            "Updated: \n",
            "        10:40 PM EDT, Wed June 4, 2025\n",
            "    \n",
            "\n",
            "  Source: CNN\n",
            "\n",
            "\n",
            "  Russian President Vladimir Putin told US President Donald Trump in a phone call Wednesday that Moscow was obligated to respond to Ukraine’s weekend drone attack, Trump said, setting up a potential escalation in the conflict just as the US president hopes to broker an end to the war.\n",
            "\n",
            "\n",
            "  The leaders’ \n",
            "---\n",
            "\n",
            "=====================================================================\n",
            "\n",
            "Article 74:\n",
            "\n",
            "  By Bryan Mena, CNN\n",
            "\n",
            "\n",
            "Updated: \n",
            "        4:57 PM EDT, Wed June 4, 2025\n",
            "    \n",
            "\n",
            "  Source: CNN\n",
            "\n",
            "\n",
            "  In the New England region, a clothing store re-tagged items to be sold during the summer to cover the cost of tariffs. A car dealership in upstate New York said its inventory has been depleted by Americans rushing to get ahead of tariffs. And an electronics manufacturer said President Donald Trump’s swe\n",
            "---\n",
            "\n",
            "=====================================================================\n",
            "\n",
            "Article 90:\n",
            "\n",
            "  By Chris Isidore, CNN\n",
            "\n",
            "\n",
            "Updated: \n",
            "        12:19 PM EDT, Wed June 4, 2025\n",
            "    \n",
            "\n",
            "  Source: CNN\n",
            "\n",
            "\n",
            "  US tariffs on steel and aluminum doubled to 50% as of 12:01 am ET on Wednesday, a move cheered by the beleaguered American steel industry but worrisome to sectors that heavily use the metals, from car makers to can manufacturers.\n",
            "\n",
            "\n",
            "  The jump in import taxes is the latest salvo in President Donald T\n",
            "---\n",
            "\n",
            "=====================================================================\n",
            "\n"
          ]
        }
      ]
    }
  ]
}